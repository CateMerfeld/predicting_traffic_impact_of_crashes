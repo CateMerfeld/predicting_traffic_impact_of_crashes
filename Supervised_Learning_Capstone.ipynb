{
  "nbformat": 4,
  "nbformat_minor": 0,
  "metadata": {
    "colab": {
      "name": "Supervised_Learning_Capstone.ipynb",
      "provenance": [],
      "collapsed_sections": []
    },
    "kernelspec": {
      "name": "python3",
      "display_name": "Python 3"
    },
    "accelerator": "TPU"
  },
  "cells": [
    {
      "cell_type": "markdown",
      "metadata": {
        "id": "MH_n_yV60s6F"
      },
      "source": [
        "# Predicting traffic impact using environmental crash data:\n",
        "---\n",
        "\n",
        "<br>\n",
        "\n",
        "## Overview:\n",
        "\n",
        "\n",
        "This dataset contains 4 years worth of crash data from across the US. \n",
        "\n",
        "The question I've set out to answer is: Can environmental crash data be used to predict the crash's traffic impact? "
      ]
    },
    {
      "cell_type": "markdown",
      "metadata": {
        "id": "-4_l2mI_plm8"
      },
      "source": [
        "# Imports:\n",
        "---\n",
        "\n",
        "<small>Original dataset: https://www.kaggle.com/sobhanmoosavi/us-train\n"
      ]
    },
    {
      "cell_type": "markdown",
      "metadata": {
        "id": "UVircnJIkDEN"
      },
      "source": [
        "In its original form this file caused Colab to crash when attempting upload. To make the file smaller several irrelevant or mostly null columns (including Street, Number, End_Lat, End_Lng, City & County) were removed in Excel. "
      ]
    },
    {
      "cell_type": "code",
      "metadata": {
        "id": "jYjSLfLFnSGe"
      },
      "source": [
        "# import pandas as pd\n",
        "# pd.options.mode.chained_assignment = None  # default='warn'\n",
        "# import io\n",
        "# import matplotlib.pyplot as plt\n",
        "# import numpy as np\n",
        "\n",
        "# import seaborn as sns\n",
        "\n",
        "# from sklearn.ensemble import GradientBoostingClassifier, RandomForestClassifier\n",
        "# from sklearn.metrics import classification_report, plot_confusion_matrix \n",
        "# from sklearn.model_selection import cross_val_score, train_test_split, GridSearchCV\n",
        "\n",
        "# !pip install xgboost\n",
        "# from xgboost import XGBClassifier\n",
        "\n",
        "# !pip install scikit-optimize\n",
        "# from skopt import BayesSearchCV\n",
        "# from skopt.space import Real, Categorical, Integer\n",
        "\n",
        "# from sklearn.preprocessing import OneHotEncoder\n",
        "# from sklearn.preprocessing import StandardScaler\n",
        "# from sklearn.compose import ColumnTransformer\n",
        "# from imblearn.combine import SMOTEENN\n",
        "# from scipy.stats.mstats import winsorize\n",
        "# from sklearn.metrics import recall_score, precision_score\n",
        "\n",
        "# from sklearn.neighbors import KNeighborsClassifier"
      ],
      "execution_count": null,
      "outputs": []
    },
    {
      "cell_type": "code",
      "metadata": {
        "id": "TAHBQfarYlzJ"
      },
      "source": [
        "# !pip install PyDrive\n",
        "# from pydrive.auth import GoogleAuth\n",
        "# from pydrive.drive import GoogleDrive\n",
        "# from google.colab import auth\n",
        "# from oauth2client.client import GoogleCredentials\n",
        "# auth.authenticate_user()\n",
        "# gauth = GoogleAuth()\n",
        "# gauth.credentials = GoogleCredentials.get_application_default()\n",
        "# drive = GoogleDrive(gauth)"
      ],
      "execution_count": null,
      "outputs": []
    },
    {
      "cell_type": "code",
      "metadata": {
        "id": "8kq0_C5Ggw_K"
      },
      "source": [
        "# downloaded = drive.CreateFile({'id': '1bOmTNBomNCicD8zpz-KOol11HwwUu-y_'})\n",
        "# downloaded.GetContentFile('accidents.xlsx')"
      ],
      "execution_count": null,
      "outputs": []
    },
    {
      "cell_type": "code",
      "metadata": {
        "id": "-Z0zXXMxi_v2"
      },
      "source": [
        "# df = pd.read_excel('accidents.xlsx')"
      ],
      "execution_count": null,
      "outputs": []
    },
    {
      "cell_type": "code",
      "metadata": {
        "id": "7RJ1pw0y73U9"
      },
      "source": [
        "# get a random sample of the data to work with \n",
        "data = df.sample(frac=.1)"
      ],
      "execution_count": null,
      "outputs": []
    },
    {
      "cell_type": "markdown",
      "metadata": {
        "id": "_TR0vQRPo-sL"
      },
      "source": [
        "# Functions:\n",
        "---"
      ]
    },
    {
      "cell_type": "code",
      "metadata": {
        "id": "jF5IKMl6o7kY"
      },
      "source": [
        "def missingness_summary(df, print_log, sort):\n",
        "  '''\n",
        "  Return a pandas series containing the percentage of missing data in each column.\n",
        "  \n",
        "  Args:\n",
        "  df - pandas dataframe \n",
        "\n",
        "  print_log (boolean) - if True, print out all of the columns in the dataframe, \n",
        "    one to a line, followed by the percentage of total rows that have a \n",
        "    null value for that column.\n",
        "    \n",
        "  sort (string) - specify if the output should be sorted in ascending order, \n",
        "    descending order, or not at all.\n",
        "  '''\n",
        "  if print_log == True:\n",
        "    series = pd.Series(df.isnull().sum()*100/df.isnull().count())\n",
        "    if sort == 'Ascending':\n",
        "      series = series.sort_values(ascending = True)\n",
        "    elif sort == 'Descending':\n",
        "      series = series.sort_values(ascending=False)\n",
        "    else:\n",
        "      series\n",
        "    return series"
      ],
      "execution_count": null,
      "outputs": []
    },
    {
      "cell_type": "code",
      "metadata": {
        "id": "EcKOJtV1Ywxv"
      },
      "source": [
        "def fill_with_mean(missing_nums, df):\n",
        "  for i in missing_nums:\n",
        "    df[i] = df[i].fillna(df[i].mean())"
      ],
      "execution_count": null,
      "outputs": []
    },
    {
      "cell_type": "code",
      "metadata": {
        "id": "YwuypUDKYx9v"
      },
      "source": [
        "def fill_with_mode(missing_objs, df):\n",
        "  for i in missing_objs:\n",
        "    df[i] = df[i].fillna(df[i].value_counts().index[0])"
      ],
      "execution_count": null,
      "outputs": []
    },
    {
      "cell_type": "code",
      "metadata": {
        "id": "JzV0QXkm4fjD"
      },
      "source": [
        "def fill_test_with_train_mean(columns, train, test):\n",
        "  for i in columns:\n",
        "    train_mean = train[i].mean()\n",
        "    test[i] = test[i].fillna(train_mean)\n"
      ],
      "execution_count": null,
      "outputs": []
    },
    {
      "cell_type": "code",
      "metadata": {
        "id": "1Kx1cGNU5bfj"
      },
      "source": [
        "def fill_test_with_train_mode(columns, train, test):\n",
        "  for i in columns:\n",
        "    train_mode = train[i].value_counts().index[0]\n",
        "    test[i] = test[i].fillna(train_mode)"
      ],
      "execution_count": null,
      "outputs": []
    },
    {
      "cell_type": "code",
      "metadata": {
        "id": "fvOX5hwh2gnb"
      },
      "source": [
        "def print_score(model, X_train, X_test, y_train, y_test):\n",
        "  print('Training:\\n', model.score(X_train, y_train))\n",
        "  print('Testing:\\n', model.score(X_test, y_test))"
      ],
      "execution_count": null,
      "outputs": []
    },
    {
      "cell_type": "code",
      "metadata": {
        "id": "JusznYqV210k"
      },
      "source": [
        "def print_classif_rep(model, X_train, X_test, y_train, y_test):\n",
        "  print('Training:\\n', classification_report(y_train, model.predict(X_train)))\n",
        "  print('Testing:\\n', classification_report(y_test, model.predict(X_test)))"
      ],
      "execution_count": null,
      "outputs": []
    },
    {
      "cell_type": "code",
      "metadata": {
        "id": "AwPGNqMM4w3f"
      },
      "source": [
        "def get_high_corrs(df):\n",
        "  corrs = df.corr()\n",
        "  selected_columns = []\n",
        "  for i in corrs.columns:\n",
        "    for j in corrs[i].values:\n",
        "      if j >= .9 and j != 1:\n",
        "        selected_columns.append(i)\n",
        "  return selected_columns"
      ],
      "execution_count": null,
      "outputs": []
    },
    {
      "cell_type": "code",
      "metadata": {
        "id": "zg6fMvMOu1iU"
      },
      "source": [
        "def print_score(model, score_type, X_train, X_test, y_train, y_test):\n",
        "  print('Train score: ', round(score_type(y_train, model.predict(X_train)), 2))\n",
        "  print('Test score: ', round(score_type(y_test, model.predict(X_test)), 2))"
      ],
      "execution_count": null,
      "outputs": []
    },
    {
      "cell_type": "markdown",
      "metadata": {
        "id": "Ep9ZJRXbpIBg"
      },
      "source": [
        "# Data exploration and cleaning:\n",
        "---"
      ]
    },
    {
      "cell_type": "code",
      "metadata": {
        "id": "zXhkMf3V6j0m",
        "outputId": "6c92221a-3374-4ff8-ef61-92e80d32429b",
        "colab": {
          "base_uri": "https://localhost:8080/"
        }
      },
      "source": [
        "data.shape"
      ],
      "execution_count": null,
      "outputs": [
        {
          "output_type": "execute_result",
          "data": {
            "text/plain": [
              "(104858, 37)"
            ]
          },
          "metadata": {
            "tags": []
          },
          "execution_count": 244
        }
      ]
    },
    {
      "cell_type": "code",
      "metadata": {
        "id": "Jx6ybeJzJbn9",
        "outputId": "f29bf0fb-805f-40ce-d1d7-39231257bead",
        "colab": {
          "base_uri": "https://localhost:8080/",
          "height": 384
        }
      },
      "source": [
        "data.head()"
      ],
      "execution_count": null,
      "outputs": [
        {
          "output_type": "execute_result",
          "data": {
            "text/html": [
              "<div>\n",
              "<style scoped>\n",
              "    .dataframe tbody tr th:only-of-type {\n",
              "        vertical-align: middle;\n",
              "    }\n",
              "\n",
              "    .dataframe tbody tr th {\n",
              "        vertical-align: top;\n",
              "    }\n",
              "\n",
              "    .dataframe thead th {\n",
              "        text-align: right;\n",
              "    }\n",
              "</style>\n",
              "<table border=\"1\" class=\"dataframe\">\n",
              "  <thead>\n",
              "    <tr style=\"text-align: right;\">\n",
              "      <th></th>\n",
              "      <th>TMC</th>\n",
              "      <th>Severity</th>\n",
              "      <th>Start_Time</th>\n",
              "      <th>End_Time</th>\n",
              "      <th>Start_Lat</th>\n",
              "      <th>Start_Lng</th>\n",
              "      <th>Distance(mi)</th>\n",
              "      <th>Side</th>\n",
              "      <th>State</th>\n",
              "      <th>Zipcode</th>\n",
              "      <th>Timezone</th>\n",
              "      <th>Temperature(F)</th>\n",
              "      <th>Wind_Chill(F)</th>\n",
              "      <th>Humidity(%)</th>\n",
              "      <th>Pressure(in)</th>\n",
              "      <th>Visibility(mi)</th>\n",
              "      <th>Wind_Direction</th>\n",
              "      <th>Wind_Speed(mph)</th>\n",
              "      <th>Precipitation(in)</th>\n",
              "      <th>Weather_Condition</th>\n",
              "      <th>Amenity</th>\n",
              "      <th>Bump</th>\n",
              "      <th>Crossing</th>\n",
              "      <th>Give_Way</th>\n",
              "      <th>Junction</th>\n",
              "      <th>No_Exit</th>\n",
              "      <th>Railway</th>\n",
              "      <th>Roundabout</th>\n",
              "      <th>Station</th>\n",
              "      <th>Stop</th>\n",
              "      <th>Traffic_Calming</th>\n",
              "      <th>Traffic_Signal</th>\n",
              "      <th>Turning_Loop</th>\n",
              "      <th>Sunrise_Sunset</th>\n",
              "      <th>Civil_Twilight</th>\n",
              "      <th>Nautical_Twilight</th>\n",
              "      <th>Astronomical_Twilight</th>\n",
              "    </tr>\n",
              "  </thead>\n",
              "  <tbody>\n",
              "    <tr>\n",
              "      <th>187164</th>\n",
              "      <td>201</td>\n",
              "      <td>3</td>\n",
              "      <td>2016-09-19 12:04:14</td>\n",
              "      <td>2016-09-19 13:04:14</td>\n",
              "      <td>42.386120</td>\n",
              "      <td>-83.020172</td>\n",
              "      <td>0.00</td>\n",
              "      <td>R</td>\n",
              "      <td>MI</td>\n",
              "      <td>48213</td>\n",
              "      <td>US/Eastern</td>\n",
              "      <td>77.0</td>\n",
              "      <td>NaN</td>\n",
              "      <td>58.0</td>\n",
              "      <td>30.05</td>\n",
              "      <td>10.0</td>\n",
              "      <td>SSW</td>\n",
              "      <td>5.8</td>\n",
              "      <td>NaN</td>\n",
              "      <td>Clear</td>\n",
              "      <td>False</td>\n",
              "      <td>False</td>\n",
              "      <td>False</td>\n",
              "      <td>False</td>\n",
              "      <td>False</td>\n",
              "      <td>False</td>\n",
              "      <td>False</td>\n",
              "      <td>False</td>\n",
              "      <td>False</td>\n",
              "      <td>False</td>\n",
              "      <td>False</td>\n",
              "      <td>False</td>\n",
              "      <td>False</td>\n",
              "      <td>Day</td>\n",
              "      <td>Day</td>\n",
              "      <td>Day</td>\n",
              "      <td>Day</td>\n",
              "    </tr>\n",
              "    <tr>\n",
              "      <th>964672</th>\n",
              "      <td>201</td>\n",
              "      <td>3</td>\n",
              "      <td>2019-09-07 22:52:05</td>\n",
              "      <td>2019-09-07 23:21:21</td>\n",
              "      <td>35.980438</td>\n",
              "      <td>-83.937401</td>\n",
              "      <td>0.00</td>\n",
              "      <td>R</td>\n",
              "      <td>TN</td>\n",
              "      <td>37921</td>\n",
              "      <td>US/Eastern</td>\n",
              "      <td>74.0</td>\n",
              "      <td>74.0</td>\n",
              "      <td>64.0</td>\n",
              "      <td>28.94</td>\n",
              "      <td>10.0</td>\n",
              "      <td>NNE</td>\n",
              "      <td>3.0</td>\n",
              "      <td>0.0</td>\n",
              "      <td>Fair</td>\n",
              "      <td>False</td>\n",
              "      <td>False</td>\n",
              "      <td>False</td>\n",
              "      <td>False</td>\n",
              "      <td>False</td>\n",
              "      <td>False</td>\n",
              "      <td>False</td>\n",
              "      <td>False</td>\n",
              "      <td>False</td>\n",
              "      <td>False</td>\n",
              "      <td>False</td>\n",
              "      <td>False</td>\n",
              "      <td>False</td>\n",
              "      <td>Night</td>\n",
              "      <td>Night</td>\n",
              "      <td>Night</td>\n",
              "      <td>Night</td>\n",
              "    </tr>\n",
              "    <tr>\n",
              "      <th>303542</th>\n",
              "      <td>201</td>\n",
              "      <td>3</td>\n",
              "      <td>2016-07-11 08:13:32</td>\n",
              "      <td>2016-07-11 08:58:32</td>\n",
              "      <td>32.790867</td>\n",
              "      <td>-96.755981</td>\n",
              "      <td>0.00</td>\n",
              "      <td>R</td>\n",
              "      <td>TX</td>\n",
              "      <td>75223</td>\n",
              "      <td>US/Central</td>\n",
              "      <td>80.1</td>\n",
              "      <td>NaN</td>\n",
              "      <td>76.0</td>\n",
              "      <td>29.89</td>\n",
              "      <td>10.0</td>\n",
              "      <td>South</td>\n",
              "      <td>16.1</td>\n",
              "      <td>NaN</td>\n",
              "      <td>Mostly Cloudy</td>\n",
              "      <td>False</td>\n",
              "      <td>False</td>\n",
              "      <td>False</td>\n",
              "      <td>False</td>\n",
              "      <td>False</td>\n",
              "      <td>False</td>\n",
              "      <td>False</td>\n",
              "      <td>False</td>\n",
              "      <td>False</td>\n",
              "      <td>False</td>\n",
              "      <td>False</td>\n",
              "      <td>False</td>\n",
              "      <td>False</td>\n",
              "      <td>Day</td>\n",
              "      <td>Day</td>\n",
              "      <td>Day</td>\n",
              "      <td>Day</td>\n",
              "    </tr>\n",
              "    <tr>\n",
              "      <th>171036</th>\n",
              "      <td>201</td>\n",
              "      <td>3</td>\n",
              "      <td>2016-11-04 11:48:11</td>\n",
              "      <td>2016-11-04 12:32:56</td>\n",
              "      <td>38.748219</td>\n",
              "      <td>-90.439575</td>\n",
              "      <td>0.01</td>\n",
              "      <td>R</td>\n",
              "      <td>MO</td>\n",
              "      <td>63043</td>\n",
              "      <td>US/Central</td>\n",
              "      <td>63.0</td>\n",
              "      <td>NaN</td>\n",
              "      <td>54.0</td>\n",
              "      <td>30.45</td>\n",
              "      <td>10.0</td>\n",
              "      <td>ESE</td>\n",
              "      <td>3.5</td>\n",
              "      <td>NaN</td>\n",
              "      <td>Clear</td>\n",
              "      <td>False</td>\n",
              "      <td>False</td>\n",
              "      <td>False</td>\n",
              "      <td>False</td>\n",
              "      <td>False</td>\n",
              "      <td>False</td>\n",
              "      <td>False</td>\n",
              "      <td>False</td>\n",
              "      <td>False</td>\n",
              "      <td>False</td>\n",
              "      <td>False</td>\n",
              "      <td>False</td>\n",
              "      <td>False</td>\n",
              "      <td>Day</td>\n",
              "      <td>Day</td>\n",
              "      <td>Day</td>\n",
              "      <td>Day</td>\n",
              "    </tr>\n",
              "    <tr>\n",
              "      <th>103217</th>\n",
              "      <td>201</td>\n",
              "      <td>2</td>\n",
              "      <td>2016-04-20 14:49:15</td>\n",
              "      <td>2016-04-20 15:49:15</td>\n",
              "      <td>34.163368</td>\n",
              "      <td>-118.472435</td>\n",
              "      <td>0.01</td>\n",
              "      <td>R</td>\n",
              "      <td>CA</td>\n",
              "      <td>91403</td>\n",
              "      <td>US/Pacific</td>\n",
              "      <td>87.1</td>\n",
              "      <td>NaN</td>\n",
              "      <td>8.0</td>\n",
              "      <td>29.88</td>\n",
              "      <td>10.0</td>\n",
              "      <td>SE</td>\n",
              "      <td>11.5</td>\n",
              "      <td>NaN</td>\n",
              "      <td>Clear</td>\n",
              "      <td>False</td>\n",
              "      <td>False</td>\n",
              "      <td>False</td>\n",
              "      <td>False</td>\n",
              "      <td>False</td>\n",
              "      <td>False</td>\n",
              "      <td>False</td>\n",
              "      <td>False</td>\n",
              "      <td>False</td>\n",
              "      <td>False</td>\n",
              "      <td>False</td>\n",
              "      <td>False</td>\n",
              "      <td>False</td>\n",
              "      <td>Day</td>\n",
              "      <td>Day</td>\n",
              "      <td>Day</td>\n",
              "      <td>Day</td>\n",
              "    </tr>\n",
              "  </tbody>\n",
              "</table>\n",
              "</div>"
            ],
            "text/plain": [
              "        TMC  Severity  ... Nautical_Twilight Astronomical_Twilight\n",
              "187164  201         3  ...               Day                   Day\n",
              "964672  201         3  ...             Night                 Night\n",
              "303542  201         3  ...               Day                   Day\n",
              "171036  201         3  ...               Day                   Day\n",
              "103217  201         2  ...               Day                   Day\n",
              "\n",
              "[5 rows x 37 columns]"
            ]
          },
          "metadata": {
            "tags": []
          },
          "execution_count": 245
        }
      ]
    },
    {
      "cell_type": "code",
      "metadata": {
        "id": "UWCs75lLu_TO"
      },
      "source": [
        "# divide into train and test\n",
        "train = data.sample(frac=.8)\n",
        "test = data.drop(train.index)"
      ],
      "execution_count": null,
      "outputs": []
    },
    {
      "cell_type": "code",
      "metadata": {
        "id": "Zh2YaTz_gNiP",
        "outputId": "09f8938f-5de2-422e-ac48-c2004e228983",
        "colab": {
          "base_uri": "https://localhost:8080/"
        }
      },
      "source": [
        "print(train.shape)\n",
        "print(test.shape)"
      ],
      "execution_count": null,
      "outputs": [
        {
          "output_type": "stream",
          "text": [
            "(83886, 37)\n",
            "(20972, 37)\n"
          ],
          "name": "stdout"
        }
      ]
    },
    {
      "cell_type": "code",
      "metadata": {
        "id": "I1E1VF8PlDMl",
        "outputId": "0a62b56e-6742-4f90-cbfe-3245e3fd65f3",
        "colab": {
          "base_uri": "https://localhost:8080/"
        }
      },
      "source": [
        "train.info()"
      ],
      "execution_count": null,
      "outputs": [
        {
          "output_type": "stream",
          "text": [
            "<class 'pandas.core.frame.DataFrame'>\n",
            "Int64Index: 83886 entries, 938719 to 765641\n",
            "Data columns (total 37 columns):\n",
            " #   Column                 Non-Null Count  Dtype         \n",
            "---  ------                 --------------  -----         \n",
            " 0   TMC                    83886 non-null  int64         \n",
            " 1   Severity               83886 non-null  int64         \n",
            " 2   Start_Time             83886 non-null  datetime64[ns]\n",
            " 3   End_Time               83886 non-null  datetime64[ns]\n",
            " 4   Start_Lat              83886 non-null  float64       \n",
            " 5   Start_Lng              83886 non-null  float64       \n",
            " 6   Distance(mi)           83886 non-null  float64       \n",
            " 7   Side                   83886 non-null  object        \n",
            " 8   State                  83886 non-null  object        \n",
            " 9   Zipcode                83869 non-null  object        \n",
            " 10  Timezone               83835 non-null  object        \n",
            " 11  Temperature(F)         82660 non-null  float64       \n",
            " 12  Wind_Chill(F)          46940 non-null  float64       \n",
            " 13  Humidity(%)            82520 non-null  float64       \n",
            " 14  Pressure(in)           82896 non-null  float64       \n",
            " 15  Visibility(mi)         82320 non-null  float64       \n",
            " 16  Wind_Direction         82691 non-null  object        \n",
            " 17  Wind_Speed(mph)        75823 non-null  float64       \n",
            " 18  Precipitation(in)      45516 non-null  float64       \n",
            " 19  Weather_Condition      82382 non-null  object        \n",
            " 20  Amenity                83886 non-null  bool          \n",
            " 21  Bump                   83886 non-null  bool          \n",
            " 22  Crossing               83886 non-null  bool          \n",
            " 23  Give_Way               83886 non-null  bool          \n",
            " 24  Junction               83886 non-null  bool          \n",
            " 25  No_Exit                83886 non-null  bool          \n",
            " 26  Railway                83886 non-null  bool          \n",
            " 27  Roundabout             83886 non-null  bool          \n",
            " 28  Station                83886 non-null  bool          \n",
            " 29  Stop                   83886 non-null  bool          \n",
            " 30  Traffic_Calming        83886 non-null  bool          \n",
            " 31  Traffic_Signal         83886 non-null  bool          \n",
            " 32  Turning_Loop           83886 non-null  bool          \n",
            " 33  Sunrise_Sunset         83880 non-null  object        \n",
            " 34  Civil_Twilight         83880 non-null  object        \n",
            " 35  Nautical_Twilight      83880 non-null  object        \n",
            " 36  Astronomical_Twilight  83880 non-null  object        \n",
            "dtypes: bool(13), datetime64[ns](2), float64(10), int64(2), object(10)\n",
            "memory usage: 17.0+ MB\n"
          ],
          "name": "stdout"
        }
      ]
    },
    {
      "cell_type": "markdown",
      "metadata": {
        "id": "T6-AtFyHf-Gh"
      },
      "source": [
        "Temperature(F) and Wind_Chill(F) have high colinearity. I'll explore more before deciding to remove one or make an interaction. "
      ]
    },
    {
      "cell_type": "code",
      "metadata": {
        "id": "KYCLlRK-rs9V",
        "outputId": "a08ac72e-e32c-4403-f9cd-53aa98f84fcf",
        "colab": {
          "base_uri": "https://localhost:8080/"
        }
      },
      "source": [
        "# Check programatically for strong correlations\n",
        "get_high_corrs(train)"
      ],
      "execution_count": null,
      "outputs": [
        {
          "output_type": "execute_result",
          "data": {
            "text/plain": [
              "['Temperature(F)', 'Wind_Chill(F)']"
            ]
          },
          "metadata": {
            "tags": []
          },
          "execution_count": 249
        }
      ]
    },
    {
      "cell_type": "code",
      "metadata": {
        "id": "pOklX5nUrbYH",
        "outputId": "be1eb534-20b7-44aa-ff13-de3911b75af7",
        "colab": {
          "base_uri": "https://localhost:8080/",
          "height": 674
        }
      },
      "source": [
        "# check for correlations with heatmat\n",
        "nums = train.select_dtypes(include=['int64', 'float64'])\n",
        "cormat = nums.corr()\n",
        "plt.figure(figsize=(20,10))\n",
        "ax = sns.heatmap(cormat, square=True, annot=True)"
      ],
      "execution_count": null,
      "outputs": [
        {
          "output_type": "display_data",
          "data": {
            "image/png": "[encoded data removed]",
            "text/plain": [
              "<Figure size 1440x720 with 2 Axes>"
            ]
          },
          "metadata": {
            "tags": [],
            "needs_background": "light"
          }
        }
      ]
    },
    {
      "cell_type": "code",
      "metadata": {
        "id": "G3sgJeMao8q3",
        "outputId": "da15cd96-733a-41f9-a339-5264d4952ac1",
        "colab": {
          "base_uri": "https://localhost:8080/"
        }
      },
      "source": [
        "# check percent missing values\n",
        "missingness_summary(train, True, 'Descending')"
      ],
      "execution_count": null,
      "outputs": [
        {
          "output_type": "execute_result",
          "data": {
            "text/plain": [
              "Precipitation(in)        45.740648\n",
              "Wind_Chill(F)            44.043106\n",
              "Wind_Speed(mph)           9.611854\n",
              "Visibility(mi)            1.866819\n",
              "Weather_Condition         1.792909\n",
              "Humidity(%)               1.628400\n",
              "Temperature(F)            1.461507\n",
              "Wind_Direction            1.424552\n",
              "Pressure(in)              1.180173\n",
              "Timezone                  0.060797\n",
              "Zipcode                   0.020266\n",
              "Nautical_Twilight         0.007153\n",
              "Astronomical_Twilight     0.007153\n",
              "Civil_Twilight            0.007153\n",
              "Sunrise_Sunset            0.007153\n",
              "Give_Way                  0.000000\n",
              "Crossing                  0.000000\n",
              "Severity                  0.000000\n",
              "Start_Time                0.000000\n",
              "End_Time                  0.000000\n",
              "Start_Lat                 0.000000\n",
              "Start_Lng                 0.000000\n",
              "Distance(mi)              0.000000\n",
              "Side                      0.000000\n",
              "State                     0.000000\n",
              "Turning_Loop              0.000000\n",
              "Traffic_Signal            0.000000\n",
              "Traffic_Calming           0.000000\n",
              "Stop                      0.000000\n",
              "Station                   0.000000\n",
              "Roundabout                0.000000\n",
              "Railway                   0.000000\n",
              "No_Exit                   0.000000\n",
              "Junction                  0.000000\n",
              "Amenity                   0.000000\n",
              "Bump                      0.000000\n",
              "TMC                       0.000000\n",
              "dtype: float64"
            ]
          },
          "metadata": {
            "tags": []
          },
          "execution_count": 251
        }
      ]
    },
    {
      "cell_type": "markdown",
      "metadata": {
        "id": "BaAP4b-vxuVW"
      },
      "source": [
        "Since Wind_Chill(F) has more than 10% missing data, this solves my colinearity problem. I'll drop Wind_Chill(F) and keep Temperature(F) "
      ]
    },
    {
      "cell_type": "code",
      "metadata": {
        "id": "wdU13t3Q7TqO"
      },
      "source": [
        "# drop columns with more than 10% missing data\n",
        "train.drop(['Precipitation(in)', 'Wind_Chill(F)', 'Wind_Speed(mph)'], axis=1, inplace=True)\n",
        "test.drop(['Precipitation(in)', 'Wind_Chill(F)', 'Wind_Speed(mph)'], axis=1, inplace=True)"
      ],
      "execution_count": null,
      "outputs": []
    },
    {
      "cell_type": "code",
      "metadata": {
        "id": "6J3jgz2vVWaD",
        "outputId": "4f608df3-3780-4782-eec4-dfff5d563896",
        "colab": {
          "base_uri": "https://localhost:8080/"
        }
      },
      "source": [
        "train.shape"
      ],
      "execution_count": null,
      "outputs": [
        {
          "output_type": "execute_result",
          "data": {
            "text/plain": [
              "(83886, 34)"
            ]
          },
          "metadata": {
            "tags": []
          },
          "execution_count": 253
        }
      ]
    },
    {
      "cell_type": "code",
      "metadata": {
        "id": "5WiLKjXk8qiI"
      },
      "source": [
        "# drop rows with more than 20% missing data\n",
        "train.dropna(thresh=27, inplace=True)\n",
        "test.dropna(thresh=27, inplace=True)"
      ],
      "execution_count": null,
      "outputs": []
    },
    {
      "cell_type": "code",
      "metadata": {
        "id": "vBOGZvqHFtwn",
        "outputId": "62e7ffe8-de88-4a2e-8837-ec36b7330382",
        "colab": {
          "base_uri": "https://localhost:8080/"
        }
      },
      "source": [
        "# check how many rows were dropped (less than .02% of the rows)\n",
        "train.shape[0]"
      ],
      "execution_count": null,
      "outputs": [
        {
          "output_type": "execute_result",
          "data": {
            "text/plain": [
              "83869"
            ]
          },
          "metadata": {
            "tags": []
          },
          "execution_count": 255
        }
      ]
    },
    {
      "cell_type": "code",
      "metadata": {
        "id": "FUgoh1b3V-dv"
      },
      "source": [
        "# fill numeric nulls with column mean\n",
        "missing_nums = train.select_dtypes(include=[int, float])\n",
        "\n",
        "fill_with_mean(missing_nums, train)\n",
        "\n",
        "# use mean from training set to fill nulls in test set\n",
        "fill_test_with_train_mean(missing_nums, train, test)"
      ],
      "execution_count": null,
      "outputs": []
    },
    {
      "cell_type": "code",
      "metadata": {
        "id": "bvWrHo6LYmOo"
      },
      "source": [
        "# fill categorical nulls with column mode\n",
        "missing_objs = train.select_dtypes(exclude=[int, float])\n",
        "\n",
        "fill_with_mode(missing_objs, train)\n",
        "\n",
        "# use mode from training set to fill nulls in test set\n",
        "fill_test_with_train_mode(missing_objs, train, test)"
      ],
      "execution_count": null,
      "outputs": []
    },
    {
      "cell_type": "code",
      "metadata": {
        "id": "WZ3rhypLHEzv",
        "outputId": "8c260aec-7cdf-4ad0-92a2-c717dd99148f",
        "colab": {
          "base_uri": "https://localhost:8080/"
        }
      },
      "source": [
        "# check for remaining nulls\n",
        "train.isnull().sum().sort_values(ascending=False)"
      ],
      "execution_count": null,
      "outputs": [
        {
          "output_type": "execute_result",
          "data": {
            "text/plain": [
              "Astronomical_Twilight    0\n",
              "State                    0\n",
              "Visibility(mi)           0\n",
              "Pressure(in)             0\n",
              "Humidity(%)              0\n",
              "Temperature(F)           0\n",
              "Timezone                 0\n",
              "Zipcode                  0\n",
              "Side                     0\n",
              "Nautical_Twilight        0\n",
              "Distance(mi)             0\n",
              "Start_Lng                0\n",
              "Start_Lat                0\n",
              "End_Time                 0\n",
              "Start_Time               0\n",
              "Severity                 0\n",
              "Wind_Direction           0\n",
              "Weather_Condition        0\n",
              "Amenity                  0\n",
              "Bump                     0\n",
              "Crossing                 0\n",
              "Give_Way                 0\n",
              "Junction                 0\n",
              "No_Exit                  0\n",
              "Railway                  0\n",
              "Roundabout               0\n",
              "Station                  0\n",
              "Stop                     0\n",
              "Traffic_Calming          0\n",
              "Traffic_Signal           0\n",
              "Turning_Loop             0\n",
              "Sunrise_Sunset           0\n",
              "Civil_Twilight           0\n",
              "TMC                      0\n",
              "dtype: int64"
            ]
          },
          "metadata": {
            "tags": []
          },
          "execution_count": 258
        }
      ]
    },
    {
      "cell_type": "code",
      "metadata": {
        "id": "4OhCtgMCzbli",
        "outputId": "5d65520f-e38a-4722-b507-234fda2594bf",
        "colab": {
          "base_uri": "https://localhost:8080/"
        }
      },
      "source": [
        "train.nunique().sort_values(ascending=False)"
      ],
      "execution_count": null,
      "outputs": [
        {
          "output_type": "execute_result",
          "data": {
            "text/plain": [
              "End_Time                 83652\n",
              "Start_Time               83638\n",
              "Start_Lat                61813\n",
              "Start_Lng                61336\n",
              "Zipcode                  29091\n",
              "Distance(mi)              1270\n",
              "Pressure(in)               771\n",
              "Temperature(F)             546\n",
              "Humidity(%)                 99\n",
              "Weather_Condition           74\n",
              "State                       47\n",
              "Visibility(mi)              44\n",
              "Wind_Direction              24\n",
              "TMC                         20\n",
              "Severity                     4\n",
              "Timezone                     4\n",
              "Crossing                     2\n",
              "Bump                         2\n",
              "Civil_Twilight               2\n",
              "Sunrise_Sunset               2\n",
              "Traffic_Signal               2\n",
              "Traffic_Calming              2\n",
              "Side                         2\n",
              "Stop                         2\n",
              "Station                      2\n",
              "Roundabout                   2\n",
              "Railway                      2\n",
              "No_Exit                      2\n",
              "Junction                     2\n",
              "Give_Way                     2\n",
              "Nautical_Twilight            2\n",
              "Amenity                      2\n",
              "Astronomical_Twilight        2\n",
              "Turning_Loop                 1\n",
              "dtype: int64"
            ]
          },
          "metadata": {
            "tags": []
          },
          "execution_count": 259
        }
      ]
    },
    {
      "cell_type": "code",
      "metadata": {
        "id": "CLiuyvZq8ZoD"
      },
      "source": [
        "# Drop categorical columns that have too many (or only 1) unique values\n",
        "\n",
        "train.drop(['Turning_Loop','TMC', 'Zipcode', 'Start_Lat', 'Start_Lng'], axis=1, inplace=True)\n",
        "test.drop(['Turning_Loop','TMC', 'Zipcode', 'Start_Lat', 'Start_Lng'], axis=1, inplace=True)"
      ],
      "execution_count": null,
      "outputs": []
    },
    {
      "cell_type": "code",
      "metadata": {
        "id": "wM9XBqjXlXgE",
        "outputId": "72fc5b0c-6955-4d71-8f5e-3fe7e54e6bcd",
        "colab": {
          "base_uri": "https://localhost:8080/",
          "height": 1000
        }
      },
      "source": [
        "# check for outliers with boxplots\n",
        "nums = train.select_dtypes(include=['int64', 'float64'])\n",
        "for i in nums:\n",
        "  plt.boxplot(nums[i], whis=1.5)\n",
        "  plt.title(i)\n",
        "  plt.show()"
      ],
      "execution_count": null,
      "outputs": [
        {
          "output_type": "display_data",
          "data": {
            "image/png": "[encoded data removed]",
            "text/plain": [
              "<Figure size 432x288 with 1 Axes>"
            ]
          },
          "metadata": {
            "tags": [],
            "needs_background": "light"
          }
        },
        {
          "output_type": "display_data",
          "data": {
            "image/png": "[encoded data removed]",
            "text/plain": [
              "<Figure size 432x288 with 1 Axes>"
            ]
          },
          "metadata": {
            "tags": [],
            "needs_background": "light"
          }
        },
        {
          "output_type": "display_data",
          "data": {
            "image/png": "[encoded data removed]",
            "text/plain": [
              "<Figure size 432x288 with 1 Axes>"
            ]
          },
          "metadata": {
            "tags": [],
            "needs_background": "light"
          }
        },
        {
          "output_type": "display_data",
          "data": {
            "image/png": "[encoded data removed]",
            "text/plain": [
              "<Figure size 432x288 with 1 Axes>"
            ]
          },
          "metadata": {
            "tags": [],
            "needs_background": "light"
          }
        },
        {
          "output_type": "display_data",
          "data": {
            "image/png": "[encoded data removed]",
            "text/plain": [
              "<Figure size 432x288 with 1 Axes>"
            ]
          },
          "metadata": {
            "tags": [],
            "needs_background": "light"
          }
        },
        {
          "output_type": "display_data",
          "data": {
            "image/png": "[encoded data removed]",
            "text/plain": [
              "<Figure size 432x288 with 1 Axes>"
            ]
          },
          "metadata": {
            "tags": [],
            "needs_background": "light"
          }
        }
      ]
    },
    {
      "cell_type": "code",
      "metadata": {
        "id": "gHGestjOdEmG"
      },
      "source": [
        "# Pressure and Temperature have a few extreme outliers that appear to be errors \n",
        "# so I'll drop those values\n",
        "train = train[train['Temperature(F)'] > -50]\n",
        "train = train[train['Temperature(F)'] < 150]\n",
        "train = train[train['Pressure(in)'] > 15]"
      ],
      "execution_count": null,
      "outputs": []
    },
    {
      "cell_type": "code",
      "metadata": {
        "id": "ax86nSpu5t7S",
        "outputId": "2739a307-847b-45ca-c31a-5ab49368e815",
        "colab": {
          "base_uri": "https://localhost:8080/"
        }
      },
      "source": [
        "train.shape[0]"
      ],
      "execution_count": null,
      "outputs": [
        {
          "output_type": "execute_result",
          "data": {
            "text/plain": [
              "83865"
            ]
          },
          "metadata": {
            "tags": []
          },
          "execution_count": 263
        }
      ]
    },
    {
      "cell_type": "code",
      "metadata": {
        "id": "cqcGMee8fqwR"
      },
      "source": [
        "# winsorize outliers for 'Pressure(in)'\n",
        "def winsorize_outliers(df, cols, limits):\n",
        "  for i in cols:\n",
        "    df[i] = winsorize(df[i], limits=limits)\n",
        "\n",
        "winsorize_outliers(train, ['Pressure(in)'], (.05, 0))\n",
        "\n",
        "train_min = train['Pressure(in)'].min()\n",
        "\n",
        "# replace test outliers for 'Pressure(in)' with train min\n",
        "for i in test['Pressure(in)']:\n",
        "  if i < train_min:\n",
        "    test['Pressure(in)'] = test['Pressure(in)'].replace(i, train_min)"
      ],
      "execution_count": null,
      "outputs": []
    },
    {
      "cell_type": "code",
      "metadata": {
        "id": "jtx9LqEa2WeE",
        "outputId": "dd784dc1-1d36-4ec1-f1f8-8ee36d17e5fa",
        "colab": {
          "base_uri": "https://localhost:8080/",
          "height": 513
        }
      },
      "source": [
        "# look at distributions for adjusted features\n",
        "plt.hist(train['Temperature(F)'])\n",
        "plt.show()\n",
        "\n",
        "plt.hist(train['Pressure(in)'])\n",
        "plt.show()"
      ],
      "execution_count": null,
      "outputs": [
        {
          "output_type": "display_data",
          "data": {
            "image/png": "[encoded data removed]",
            "text/plain": [
              "<Figure size 432x288 with 1 Axes>"
            ]
          },
          "metadata": {
            "tags": [],
            "needs_background": "light"
          }
        },
        {
          "output_type": "display_data",
          "data": {
            "image/png": "[encoded data removed]",
            "text/plain": [
              "<Figure size 432x288 with 1 Axes>"
            ]
          },
          "metadata": {
            "tags": [],
            "needs_background": "light"
          }
        }
      ]
    },
    {
      "cell_type": "code",
      "metadata": {
        "id": "Ov4FTY4GV7Oo"
      },
      "source": [
        "# drop unused columns\n",
        "train.drop(['Start_Time', 'End_Time', 'State', 'Wind_Direction'], axis=1, inplace=True)\n",
        "test.drop(['Start_Time', 'End_Time', 'State', 'Wind_Direction'], axis=1, inplace=True)"
      ],
      "execution_count": null,
      "outputs": []
    },
    {
      "cell_type": "code",
      "metadata": {
        "id": "JzwISl9Nl2ah",
        "outputId": "94829163-5dcf-44ff-dd7d-387d2a155034",
        "colab": {
          "base_uri": "https://localhost:8080/"
        }
      },
      "source": [
        "# since the most common value in this column is 10, and 10mi is 'normal visibility',\n",
        "# I'll treat the variable as binary low vis vs high vis\n",
        "train['Visibility(mi)'].value_counts()"
      ],
      "execution_count": null,
      "outputs": [
        {
          "output_type": "execute_result",
          "data": {
            "text/plain": [
              "10.00000     66251\n",
              "7.00000       2506\n",
              "9.00000       2177\n",
              "8.00000       1781\n",
              "5.00000       1598\n",
              "9.11141       1548\n",
              "6.00000       1339\n",
              "3.00000       1305\n",
              "4.00000       1268\n",
              "2.00000       1225\n",
              "1.00000        896\n",
              "0.50000        306\n",
              "2.50000        256\n",
              "0.75000        197\n",
              "0.25000        187\n",
              "13.00000       162\n",
              "0.20000        137\n",
              "1.50000        131\n",
              "1.80000        127\n",
              "0.80000        115\n",
              "1.20000         79\n",
              "20.00000        58\n",
              "0.00000         57\n",
              "15.00000        46\n",
              "30.00000        22\n",
              "0.12000         20\n",
              "0.10000         13\n",
              "40.00000        12\n",
              "12.00000         8\n",
              "25.00000         7\n",
              "0.38000          6\n",
              "0.06000          5\n",
              "0.88000          4\n",
              "80.00000         3\n",
              "50.00000         2\n",
              "75.00000         2\n",
              "11.00000         2\n",
              "0.70000          1\n",
              "2.80000          1\n",
              "60.00000         1\n",
              "2.20000          1\n",
              "35.00000         1\n",
              "100.00000        1\n",
              "70.00000         1\n",
              "Name: Visibility(mi), dtype: int64"
            ]
          },
          "metadata": {
            "tags": []
          },
          "execution_count": 267
        }
      ]
    },
    {
      "cell_type": "code",
      "metadata": {
        "id": "AhcewxVd2pFn"
      },
      "source": [
        "# create binary feature for Visibility(mi)\n",
        "train['Visibility(mi)'] = np.where((train['Visibility(mi)'] < 10), 1, 0)\n",
        "\n",
        "test['Visibility(mi)'] = np.where((test['Visibility(mi)'] < 10), 1, 0)"
      ],
      "execution_count": null,
      "outputs": []
    },
    {
      "cell_type": "code",
      "metadata": {
        "id": "If4pDdlCS62p"
      },
      "source": [
        "# Weather condition has 103 unique values. Instead of creating that many dummy vars, I'll create a binary good or bad weather variable\n",
        "train['Weather_Condition'] = np.where(((train['Weather_Condition'] != 'Fair') & (train['Weather_Condition'] != 'Clear')), 1,0)\n",
        "test['Weather_Condition'] = np.where(((test['Weather_Condition'] != 'Fair') & (test['Weather_Condition'] != 'Clear')), 1,0)"
      ],
      "execution_count": null,
      "outputs": []
    },
    {
      "cell_type": "markdown",
      "metadata": {
        "id": "3RAfZrZ-smM6"
      },
      "source": [
        "Now that I've adjusted many of my features, I'll check again for correlations. None of the features show colinearity above .9, but the heatmat shows that all of the sunset/twilight measures are fairly highly correlated with each other."
      ]
    },
    {
      "cell_type": "code",
      "metadata": {
        "id": "xEgT_yxY1q7a",
        "outputId": "37d2a6d0-2ff7-4613-f942-85cab65d5dff",
        "colab": {
          "base_uri": "https://localhost:8080/"
        }
      },
      "source": [
        "# Check programatically for high correlations\n",
        "get_high_corrs(train)"
      ],
      "execution_count": null,
      "outputs": [
        {
          "output_type": "execute_result",
          "data": {
            "text/plain": [
              "[]"
            ]
          },
          "metadata": {
            "tags": []
          },
          "execution_count": 270
        }
      ]
    },
    {
      "cell_type": "code",
      "metadata": {
        "id": "M8NGz96Esls7",
        "outputId": "8ba2abe7-f450-4a35-eb24-26bc9f728853",
        "colab": {
          "base_uri": "https://localhost:8080/",
          "height": 680
        }
      },
      "source": [
        "# create heatmap to look for correlations\n",
        "nums = train.select_dtypes(include=['int64', 'float64'])\n",
        "cormat = nums.corr()\n",
        "plt.figure(figsize=(20,10))\n",
        "ax = sns.heatmap(cormat, square=True, annot=True)"
      ],
      "execution_count": null,
      "outputs": [
        {
          "output_type": "display_data",
          "data": {
            "image/png": "[encoded data removed]",
            "text/plain": [
              "<Figure size 1440x720 with 2 Axes>"
            ]
          },
          "metadata": {
            "tags": [],
            "needs_background": "light"
          }
        }
      ]
    },
    {
      "cell_type": "markdown",
      "metadata": {
        "id": "WcEnV-5QfpqL"
      },
      "source": [
        "Nautical and Astronomical Twilight begin after Civil Twilight has begun. Civil Twilight also affects driving more than any of the other twilight variables. I'll keep Civil_Twilight and drop the rest."
      ]
    },
    {
      "cell_type": "code",
      "metadata": {
        "id": "pGEcJiGLA54w"
      },
      "source": [
        "train.drop(['Sunrise_Sunset', 'Nautical_Twilight', 'Astronomical_Twilight'], axis=1, inplace=True)\n",
        "test.drop(['Sunrise_Sunset', 'Nautical_Twilight', 'Astronomical_Twilight'], axis=1, inplace=True)"
      ],
      "execution_count": null,
      "outputs": []
    },
    {
      "cell_type": "markdown",
      "metadata": {
        "id": "8B-QLEd5B3zd"
      },
      "source": [
        "Looking at the relationships between several of the features I just created and the outcome"
      ]
    },
    {
      "cell_type": "code",
      "metadata": {
        "id": "6BiYBe8-32cd"
      },
      "source": [
        "# sns.set_palette('viridis')\n",
        "# ax = sns.countplot(x='Severity', hue='Weather_Condition', data=train)\n",
        "# plt.show()\n",
        "\n",
        "# sns.set_palette('viridis')\n",
        "# ax = sns.countplot(x='Severity', hue='Visibility(mi)', data=train)\n",
        "# plt.show()\n",
        "\n",
        "# sns.set_palette('viridis')\n",
        "# ax = sns.countplot(x='Severity', hue='Civil_Twilight', data=train)\n",
        "# plt.show()\n",
        "\n",
        "# sns.set_palette('viridis')\n",
        "# ax = sns.countplot(x='Severity', hue='Distance(mi)', data=train)\n",
        "# plt.show()"
      ],
      "execution_count": null,
      "outputs": []
    },
    {
      "cell_type": "markdown",
      "metadata": {
        "id": "_-MLIgcPgHZy"
      },
      "source": [
        "Checking the class distribution of the target variable. Both the histogram and the value counts show a large imbalance. Class 2 has over 100x as many entries as Class 1.  Since the value counts for the highest and lowest class are so small, I'll break this variable into high and low severity."
      ]
    },
    {
      "cell_type": "code",
      "metadata": {
        "id": "0-UDSM2i8gwn",
        "outputId": "2013a0ea-7ef4-4724-c2de-c4a536daaad9",
        "colab": {
          "base_uri": "https://localhost:8080/",
          "height": 370
        }
      },
      "source": [
        "# check class balance of target variable\n",
        "plt.hist(train['Severity'])\n",
        "plt.title('Severity class balance')\n",
        "plt.show()\n",
        "\n",
        "print(train['Severity'].value_counts())"
      ],
      "execution_count": null,
      "outputs": [
        {
          "output_type": "display_data",
          "data": {
            "image/png": "[encoded data removed]",
            "text/plain": [
              "<Figure size 432x288 with 1 Axes>"
            ]
          },
          "metadata": {
            "tags": [],
            "needs_background": "light"
          }
        },
        {
          "output_type": "stream",
          "text": [
            "2    55957\n",
            "3    27531\n",
            "4      335\n",
            "1       42\n",
            "Name: Severity, dtype: int64\n"
          ],
          "name": "stdout"
        }
      ]
    },
    {
      "cell_type": "markdown",
      "metadata": {
        "id": "KVQuod_aBXV_"
      },
      "source": [
        "Even after doing this, there is still a class imbalance. I might balance the training set later"
      ]
    },
    {
      "cell_type": "code",
      "metadata": {
        "id": "3mXJR-Oca5Ir",
        "outputId": "491cdf6b-72cf-4771-9d29-5ef0f4a87218",
        "colab": {
          "base_uri": "https://localhost:8080/"
        }
      },
      "source": [
        "# Set severity values 1 & 2 to low(0) and 3 & 4 to high(1)\n",
        "train['Severity'] = np.where(((train['Severity'] == 1) | (train['Severity'] == 2)), 0, 1)\n",
        "test['Severity'] = np.where(((test['Severity'] == 1) | (test['Severity'] == 2)), 0, 1)\n",
        "train['Severity'].value_counts()"
      ],
      "execution_count": null,
      "outputs": [
        {
          "output_type": "execute_result",
          "data": {
            "text/plain": [
              "0    55999\n",
              "1    27866\n",
              "Name: Severity, dtype: int64"
            ]
          },
          "metadata": {
            "tags": []
          },
          "execution_count": 275
        }
      ]
    },
    {
      "cell_type": "code",
      "metadata": {
        "id": "0EdQThHNmmI1"
      },
      "source": [
        "# Divide into features and target\n",
        "X_train = train.drop('Severity', axis=1)\n",
        "y_train = train['Severity']\n",
        "X_test = test.drop('Severity', axis=1)\n",
        "y_test = test['Severity']"
      ],
      "execution_count": null,
      "outputs": []
    },
    {
      "cell_type": "markdown",
      "metadata": {
        "id": "DIU6lm0fxlvR"
      },
      "source": [
        "# Scaling and feature encoding:\n",
        "---"
      ]
    },
    {
      "cell_type": "markdown",
      "metadata": {
        "id": "9zSjKYFlHSlQ"
      },
      "source": [
        "The features are on different scales (temp, miles, in) so I'll use StandardScaler to standardize them. I also need to encode several of my categorical variables. Using ColumnTransformer to do both. "
      ]
    },
    {
      "cell_type": "code",
      "metadata": {
        "id": "Kb5IBVjhl-di"
      },
      "source": [
        "# use ColumnTransformer to scale some columns and encode others\n",
        "objs = ['Side', 'Timezone', 'Civil_Twilight']\n",
        "nums = ['Temperature(F)', 'Humidity(%)', 'Pressure(in)', 'Distance(mi)']\n",
        "\n",
        "sc = StandardScaler()\n",
        "onehot = OneHotEncoder(drop='first', sparse=False)\n",
        "\n",
        "preprocessor = ColumnTransformer(transformers=[('num', sc, nums),\n",
        "                                               ('cat', onehot, objs)])\n",
        "\n",
        "scaled_train = preprocessor.fit_transform(X_train)\n",
        "scaled_test = preprocessor.transform(X_test)"
      ],
      "execution_count": null,
      "outputs": []
    },
    {
      "cell_type": "code",
      "metadata": {
        "id": "inO82yaEo9wn"
      },
      "source": [
        "# put results back into dataframes with labeled columns\n",
        "onehot_features = preprocessor.named_transformers_['cat'].get_feature_names()\n",
        "all_features = nums + list(onehot_features)\n",
        "\n",
        "scaled_train = pd.DataFrame(scaled_train, index=X_train.index, columns=all_features)\n",
        "scaled_test = pd.DataFrame(scaled_test, index=X_test.index, columns=all_features)"
      ],
      "execution_count": null,
      "outputs": []
    },
    {
      "cell_type": "code",
      "metadata": {
        "id": "tLD5kWr0s-Fb"
      },
      "source": [
        "# concatenate results from above with untouched features\n",
        "train_concat = X_train.drop(['Civil_Twilight', 'Temperature(F)', 'Humidity(%)', 'Pressure(in)', 'Distance(mi)', 'Side', 'Timezone'], axis=1)\n",
        "test_concat = X_test.drop(['Civil_Twilight', 'Temperature(F)', 'Humidity(%)', 'Pressure(in)', 'Distance(mi)', 'Side', 'Timezone'], axis=1)\n",
        "\n",
        "scaled_train = pd.concat([scaled_train, train_concat], axis=1)\n",
        "scaled_test = pd.concat([scaled_test, test_concat], axis=1)"
      ],
      "execution_count": null,
      "outputs": []
    },
    {
      "cell_type": "markdown",
      "metadata": {
        "id": "cpm57BNux0Pp"
      },
      "source": [
        "# Modeling:\n",
        "---"
      ]
    },
    {
      "cell_type": "markdown",
      "metadata": {
        "id": "gw-Pf71DxcA7"
      },
      "source": [
        "As I start modeling I'm thinking about what I really want to get out of my model. Since I care the most about finding any accidents that will have a large impact on traffic, I mostly care about my minority class recall. \n",
        "\n",
        "<br>\n",
        "\n",
        "I'm less concerned with the precision because it would be significantly eaiser to correct for a false positive (traffic jam predicted but real time data shows that traffic is flowing freely so no need to reroute cars) than a false negative (no traffic jam was predicted but one started anyway). "
      ]
    },
    {
      "cell_type": "markdown",
      "metadata": {
        "id": "6ipM6aT-Aszm"
      },
      "source": [
        "Starting with a gradient boosting classifier with default parameters (except max_depth to avoid overfitting). The model performs decently on the majority class, but minority class recall is very low. \n",
        "\n",
        "I'll balance the target variable to see if that helps. "
      ]
    },
    {
      "cell_type": "code",
      "metadata": {
        "id": "8AsJQn92Tb76",
        "outputId": "a0f659bf-2b10-49db-be67-027af74ae7fe",
        "colab": {
          "base_uri": "https://localhost:8080/"
        }
      },
      "source": [
        "gbc = GradientBoostingClassifier(max_depth=10)\n",
        "gbc.fit(scaled_train, y_train)"
      ],
      "execution_count": null,
      "outputs": [
        {
          "output_type": "execute_result",
          "data": {
            "text/plain": [
              "GradientBoostingClassifier(ccp_alpha=0.0, criterion='friedman_mse', init=None,\n",
              "                           learning_rate=0.1, loss='deviance', max_depth=10,\n",
              "                           max_features=None, max_leaf_nodes=None,\n",
              "                           min_impurity_decrease=0.0, min_impurity_split=None,\n",
              "                           min_samples_leaf=1, min_samples_split=2,\n",
              "                           min_weight_fraction_leaf=0.0, n_estimators=100,\n",
              "                           n_iter_no_change=None, presort='deprecated',\n",
              "                           random_state=None, subsample=1.0, tol=0.0001,\n",
              "                           validation_fraction=0.1, verbose=0,\n",
              "                           warm_start=False)"
            ]
          },
          "metadata": {
            "tags": []
          },
          "execution_count": 280
        }
      ]
    },
    {
      "cell_type": "code",
      "metadata": {
        "id": "QMpOz1Yta-hS",
        "outputId": "0a92c810-6c54-4f70-ab73-66d45b1fd861",
        "colab": {
          "base_uri": "https://localhost:8080/"
        }
      },
      "source": [
        "print('Training recall score: ', round(recall_score(y_train, gbc.predict(scaled_train)), 2))\n",
        "print(classification_report(y_train, gbc.predict(scaled_train)))"
      ],
      "execution_count": null,
      "outputs": [
        {
          "output_type": "stream",
          "text": [
            "Training recall score:  0.58\n",
            "              precision    recall  f1-score   support\n",
            "\n",
            "           0       0.81      0.88      0.84     55999\n",
            "           1       0.71      0.58      0.64     27866\n",
            "\n",
            "    accuracy                           0.78     83865\n",
            "   macro avg       0.76      0.73      0.74     83865\n",
            "weighted avg       0.78      0.78      0.78     83865\n",
            "\n"
          ],
          "name": "stdout"
        }
      ]
    },
    {
      "cell_type": "markdown",
      "metadata": {
        "id": "k69VyUatw-yq"
      },
      "source": [
        "Using SMOTE to balance my target variable. This should help improve my scores.\n",
        "\n",
        "After doing this my training and testing data will look very different, so cross validation won't be very helpful. I'll hold out a random sample of the training data to compare my scores to."
      ]
    },
    {
      "cell_type": "code",
      "metadata": {
        "id": "xvSpqkZ05GiX"
      },
      "source": [
        "all = pd.concat([scaled_train, y_train], axis=1)\n",
        "\n",
        "hold = all.sample(frac=.1)\n",
        "use = all.drop(hold.index)"
      ],
      "execution_count": null,
      "outputs": []
    },
    {
      "cell_type": "code",
      "metadata": {
        "id": "8w0pANCL7UhN"
      },
      "source": [
        "scaled_train = use.drop('Severity', axis=1)\n",
        "y_train = use['Severity']\n",
        "X_hold = hold.drop('Severity', axis=1)\n",
        "y_hold = hold['Severity']"
      ],
      "execution_count": null,
      "outputs": []
    },
    {
      "cell_type": "code",
      "metadata": {
        "id": "5hwdKpcLB-Rw",
        "outputId": "596d9e34-ae6f-45f1-c223-c5abaae3d705",
        "colab": {
          "base_uri": "https://localhost:8080/"
        }
      },
      "source": [
        "# resample minority class and equalize class balance\n",
        "smote = SMOTEENN(sampling_strategy=1.0)\n",
        "X_train_samp, y_train_samp = smote.fit_resample(scaled_train, y_train)"
      ],
      "execution_count": null,
      "outputs": [
        {
          "output_type": "stream",
          "text": [
            "/usr/local/lib/python3.6/dist-packages/sklearn/utils/deprecation.py:87: FutureWarning: Function safe_indexing is deprecated; safe_indexing is deprecated in version 0.22 and will be removed in version 0.24.\n",
            "  warnings.warn(msg, category=FutureWarning)\n",
            "/usr/local/lib/python3.6/dist-packages/sklearn/utils/deprecation.py:87: FutureWarning: Function safe_indexing is deprecated; safe_indexing is deprecated in version 0.22 and will be removed in version 0.24.\n",
            "  warnings.warn(msg, category=FutureWarning)\n",
            "/usr/local/lib/python3.6/dist-packages/sklearn/utils/deprecation.py:87: FutureWarning: Function safe_indexing is deprecated; safe_indexing is deprecated in version 0.22 and will be removed in version 0.24.\n",
            "  warnings.warn(msg, category=FutureWarning)\n",
            "/usr/local/lib/python3.6/dist-packages/sklearn/utils/deprecation.py:87: FutureWarning: Function safe_indexing is deprecated; safe_indexing is deprecated in version 0.22 and will be removed in version 0.24.\n",
            "  warnings.warn(msg, category=FutureWarning)\n"
          ],
          "name": "stderr"
        }
      ]
    },
    {
      "cell_type": "code",
      "metadata": {
        "id": "bcYYC8TJYNvC"
      },
      "source": [
        "# put results back into Series and DataFrame\n",
        "y_train = pd.Series(y_train_samp, name='Severity')\n",
        "col_names = list(scaled_train.columns)\n",
        "scaled_train = pd.DataFrame(X_train_samp, columns=col_names)"
      ],
      "execution_count": null,
      "outputs": []
    },
    {
      "cell_type": "code",
      "metadata": {
        "id": "Nnga6WqMWJPY",
        "outputId": "66bc880d-7652-4a43-fb45-4f1ee021f734",
        "colab": {
          "base_uri": "https://localhost:8080/"
        }
      },
      "source": [
        "# check distribution after balancing\n",
        "y_train.value_counts()"
      ],
      "execution_count": null,
      "outputs": [
        {
          "output_type": "execute_result",
          "data": {
            "text/plain": [
              "1    26127\n",
              "0    23604\n",
              "Name: Severity, dtype: int64"
            ]
          },
          "metadata": {
            "tags": []
          },
          "execution_count": 286
        }
      ]
    },
    {
      "cell_type": "markdown",
      "metadata": {
        "id": "9Hpl9CR4xaIk"
      },
      "source": [
        "Running the same model as above, again with default parameters. This time the outcome variable is balanced. \n",
        "\n",
        "Scores increased across the board. I'll try a few other models and adjust hyperparameters to improve my results. \n"
      ]
    },
    {
      "cell_type": "code",
      "metadata": {
        "id": "CnN3ss3SxYW5",
        "outputId": "dc36c7bd-3817-4b7e-9839-b4aa4be2bb1d",
        "colab": {
          "base_uri": "https://localhost:8080/"
        }
      },
      "source": [
        "gbc = GradientBoostingClassifier(max_depth=10)\n",
        "gbc.fit(scaled_train, y_train)"
      ],
      "execution_count": null,
      "outputs": [
        {
          "output_type": "execute_result",
          "data": {
            "text/plain": [
              "GradientBoostingClassifier(ccp_alpha=0.0, criterion='friedman_mse', init=None,\n",
              "                           learning_rate=0.1, loss='deviance', max_depth=10,\n",
              "                           max_features=None, max_leaf_nodes=None,\n",
              "                           min_impurity_decrease=0.0, min_impurity_split=None,\n",
              "                           min_samples_leaf=1, min_samples_split=2,\n",
              "                           min_weight_fraction_leaf=0.0, n_estimators=100,\n",
              "                           n_iter_no_change=None, presort='deprecated',\n",
              "                           random_state=None, subsample=1.0, tol=0.0001,\n",
              "                           validation_fraction=0.1, verbose=0,\n",
              "                           warm_start=False)"
            ]
          },
          "metadata": {
            "tags": []
          },
          "execution_count": 287
        }
      ]
    },
    {
      "cell_type": "code",
      "metadata": {
        "id": "mZ1KpUeSxYXB",
        "outputId": "4ffb0581-40c2-4025-d297-bdaa76ce24de",
        "colab": {
          "base_uri": "https://localhost:8080/"
        }
      },
      "source": [
        "print_score(gbc, recall_score, scaled_train, X_hold, y_train, y_hold)\n",
        "print_classif_rep(gbc, scaled_train, X_hold, y_train, y_hold)"
      ],
      "execution_count": null,
      "outputs": [
        {
          "output_type": "stream",
          "text": [
            "Train score:  1.0\n",
            "Test score:  0.84\n",
            "Training:\n",
            "               precision    recall  f1-score   support\n",
            "\n",
            "           0       0.99      0.92      0.95     23604\n",
            "           1       0.93      1.00      0.96     26127\n",
            "\n",
            "    accuracy                           0.96     49731\n",
            "   macro avg       0.96      0.96      0.96     49731\n",
            "weighted avg       0.96      0.96      0.96     49731\n",
            "\n",
            "Testing:\n",
            "               precision    recall  f1-score   support\n",
            "\n",
            "           0       0.87      0.57      0.69      5569\n",
            "           1       0.50      0.84      0.62      2817\n",
            "\n",
            "    accuracy                           0.66      8386\n",
            "   macro avg       0.69      0.70      0.66      8386\n",
            "weighted avg       0.75      0.66      0.67      8386\n",
            "\n"
          ],
          "name": "stdout"
        }
      ]
    },
    {
      "cell_type": "code",
      "metadata": {
        "id": "zBoNZMsVKF94",
        "outputId": "608dffbe-30d8-4615-a45d-0f2931cae9a3",
        "colab": {
          "base_uri": "https://localhost:8080/",
          "height": 541
        }
      },
      "source": [
        "plot_confusion_matrix(gbc, scaled_train, y_train, values_format='.2f')\n",
        "plt.show()\n",
        "\n",
        "plot_confusion_matrix(gbc, X_hold, y_hold, values_format='.2f')\n",
        "plt.show()"
      ],
      "execution_count": null,
      "outputs": [
        {
          "output_type": "display_data",
          "data": {
            "image/png": "[encoded data removed]",
            "text/plain": [
              "<Figure size 432x288 with 2 Axes>"
            ]
          },
          "metadata": {
            "tags": [],
            "needs_background": "light"
          }
        },
        {
          "output_type": "display_data",
          "data": {
            "image/png": "[encoded data removed]",
            "text/plain": [
              "<Figure size 432x288 with 2 Axes>"
            ]
          },
          "metadata": {
            "tags": [],
            "needs_background": "light"
          }
        }
      ]
    },
    {
      "cell_type": "markdown",
      "metadata": {
        "id": "tc86KZoThria"
      },
      "source": [
        "Random forest model with default parameters gets a fairly similar recall score for training data compared to gbc. \n",
        "\n",
        "The recall score for the held out data was higher for this model."
      ]
    },
    {
      "cell_type": "code",
      "metadata": {
        "id": "lkzZEGG6hjCR",
        "outputId": "524e62f8-a009-4f45-f1ad-8bb891ab74fe",
        "colab": {
          "base_uri": "https://localhost:8080/"
        }
      },
      "source": [
        "rfc = RandomForestClassifier(max_depth=10)\n",
        "rfc.fit(scaled_train, y_train)"
      ],
      "execution_count": null,
      "outputs": [
        {
          "output_type": "execute_result",
          "data": {
            "text/plain": [
              "RandomForestClassifier(bootstrap=True, ccp_alpha=0.0, class_weight=None,\n",
              "                       criterion='gini', max_depth=10, max_features='auto',\n",
              "                       max_leaf_nodes=None, max_samples=None,\n",
              "                       min_impurity_decrease=0.0, min_impurity_split=None,\n",
              "                       min_samples_leaf=1, min_samples_split=2,\n",
              "                       min_weight_fraction_leaf=0.0, n_estimators=100,\n",
              "                       n_jobs=None, oob_score=False, random_state=None,\n",
              "                       verbose=0, warm_start=False)"
            ]
          },
          "metadata": {
            "tags": []
          },
          "execution_count": 293
        }
      ]
    },
    {
      "cell_type": "code",
      "metadata": {
        "id": "i_FWSjZkGrhA",
        "outputId": "5275e90b-b1e4-4ed4-f4fb-3056a81a2d45",
        "colab": {
          "base_uri": "https://localhost:8080/"
        }
      },
      "source": [
        "print_score(rfc, recall_score, scaled_train, X_hold, y_train, y_hold)\n",
        "print_classif_rep(rfc, scaled_train, X_hold, y_train, y_hold)"
      ],
      "execution_count": null,
      "outputs": [
        {
          "output_type": "stream",
          "text": [
            "Train score:  0.98\n",
            "Test score:  0.91\n",
            "Training:\n",
            "               precision    recall  f1-score   support\n",
            "\n",
            "           0       0.97      0.83      0.89     23604\n",
            "           1       0.86      0.98      0.92     26127\n",
            "\n",
            "    accuracy                           0.91     49731\n",
            "   macro avg       0.92      0.90      0.91     49731\n",
            "weighted avg       0.92      0.91      0.91     49731\n",
            "\n",
            "Testing:\n",
            "               precision    recall  f1-score   support\n",
            "\n",
            "           0       0.91      0.50      0.65      5569\n",
            "           1       0.48      0.91      0.63      2817\n",
            "\n",
            "    accuracy                           0.64      8386\n",
            "   macro avg       0.70      0.70      0.64      8386\n",
            "weighted avg       0.77      0.64      0.64      8386\n",
            "\n"
          ],
          "name": "stdout"
        }
      ]
    },
    {
      "cell_type": "markdown",
      "metadata": {
        "id": "zRIp1Wit812T"
      },
      "source": [
        "XGB with default parameters also gets a similar recall score to the models above. I'll tune the hyperparameters of this model to see if I can improve my results.\n",
        "\n",
        "Although my results seem to be overfit, this is likely a result of the balanced outcome variable, rather than true overfitting. Because of the training set is synthetically balanced and the training set is not, there is little we can do to reduce the apparent overfitting. "
      ]
    },
    {
      "cell_type": "code",
      "metadata": {
        "id": "TRKlDGfGyDKT",
        "outputId": "2d0ee80c-12c1-42ac-de50-18291320b697",
        "colab": {
          "base_uri": "https://localhost:8080/"
        }
      },
      "source": [
        "xgb = XGBClassifier()\n",
        "xgb.fit(scaled_train, y_train)"
      ],
      "execution_count": null,
      "outputs": [
        {
          "output_type": "execute_result",
          "data": {
            "text/plain": [
              "XGBClassifier(base_score=0.5, booster='gbtree', colsample_bylevel=1,\n",
              "              colsample_bynode=1, colsample_bytree=1, gamma=0,\n",
              "              learning_rate=0.1, max_delta_step=0, max_depth=3,\n",
              "              min_child_weight=1, missing=None, n_estimators=100, n_jobs=1,\n",
              "              nthread=None, objective='binary:logistic', random_state=0,\n",
              "              reg_alpha=0, reg_lambda=1, scale_pos_weight=1, seed=None,\n",
              "              silent=None, subsample=1, verbosity=1)"
            ]
          },
          "metadata": {
            "tags": []
          },
          "execution_count": 319
        }
      ]
    },
    {
      "cell_type": "code",
      "metadata": {
        "id": "oJu0H5NbHdfP",
        "outputId": "a1f720ad-5997-47af-9a42-a7429caa1b52",
        "colab": {
          "base_uri": "https://localhost:8080/"
        }
      },
      "source": [
        "print_score(xgb, recall_score, scaled_train, X_hold, y_train, y_hold)\n",
        "print_classif_rep(xgb, scaled_train, X_hold, y_train, y_hold)"
      ],
      "execution_count": null,
      "outputs": [
        {
          "output_type": "stream",
          "text": [
            "Train score:  0.98\n",
            "Test score:  0.9\n",
            "Training:\n",
            "               precision    recall  f1-score   support\n",
            "\n",
            "           0       0.97      0.83      0.89     23604\n",
            "           1       0.86      0.98      0.92     26127\n",
            "\n",
            "    accuracy                           0.91     49731\n",
            "   macro avg       0.92      0.90      0.90     49731\n",
            "weighted avg       0.91      0.91      0.90     49731\n",
            "\n",
            "Testing:\n",
            "               precision    recall  f1-score   support\n",
            "\n",
            "           0       0.91      0.50      0.65      5569\n",
            "           1       0.48      0.90      0.63      2817\n",
            "\n",
            "    accuracy                           0.64      8386\n",
            "   macro avg       0.70      0.70      0.64      8386\n",
            "weighted avg       0.77      0.64      0.64      8386\n",
            "\n"
          ],
          "name": "stdout"
        }
      ]
    },
    {
      "cell_type": "markdown",
      "metadata": {
        "id": "iq8f0gJjGTji"
      },
      "source": [
        "Since my training and test data was so different, the optimized parameters for my training set actually had worse scores for my held out data. Even using cross validation on my grid search did not improve the scores for my held out data. \n",
        "\n",
        "In fact, the best scores I got were on the models with just a max_depth specified."
      ]
    },
    {
      "cell_type": "code",
      "metadata": {
        "id": "FWerL2LFHOi1",
        "outputId": "d728d630-48f5-4c06-f3b6-4379a330bad1",
        "colab": {
          "base_uri": "https://localhost:8080/"
        }
      },
      "source": [
        "grid = {\n",
        "  'learning_rate': [.001, .01, 1],\n",
        "  'max_depth': [3, 5, 10],\n",
        "  'n_estimators': [10, 30]\n",
        "        }\n",
        "\n",
        "xgb_grid = GridSearchCV(XGBClassifier(), grid, cv=5)\n",
        "xgb_grid.fit(scaled_train, y_train)"
      ],
      "execution_count": null,
      "outputs": [
        {
          "output_type": "execute_result",
          "data": {
            "text/plain": [
              "GridSearchCV(cv=5, error_score=nan,\n",
              "             estimator=XGBClassifier(base_score=0.5, booster='gbtree',\n",
              "                                     colsample_bylevel=1, colsample_bynode=1,\n",
              "                                     colsample_bytree=1, gamma=0,\n",
              "                                     learning_rate=0.1, max_delta_step=0,\n",
              "                                     max_depth=3, min_child_weight=1,\n",
              "                                     missing=None, n_estimators=100, n_jobs=1,\n",
              "                                     nthread=None, objective='binary:logistic',\n",
              "                                     random_state=0, reg_alpha=0, reg_lambda=1,\n",
              "                                     scale_pos_weight=1, seed=None, silent=None,\n",
              "                                     subsample=1, verbosity=1),\n",
              "             iid='deprecated', n_jobs=None,\n",
              "             param_grid={'learning_rate': [0.001, 0.01, 1],\n",
              "                         'max_depth': [3, 5, 10], 'n_estimators': [10, 30]},\n",
              "             pre_dispatch='2*n_jobs', refit=True, return_train_score=False,\n",
              "             scoring=None, verbose=0)"
            ]
          },
          "metadata": {
            "tags": []
          },
          "execution_count": 334
        }
      ]
    },
    {
      "cell_type": "code",
      "metadata": {
        "id": "4CyvITeWICi7",
        "outputId": "60ffb001-b153-425c-c6b8-b267c7272c7c",
        "colab": {
          "base_uri": "https://localhost:8080/"
        }
      },
      "source": [
        "print(xgb_grid.best_params_)\n",
        "recall_score(y_hold, xgb_grid.predict(X_hold))"
      ],
      "execution_count": null,
      "outputs": [
        {
          "output_type": "stream",
          "text": [
            "{'learning_rate': 1, 'max_depth': 10, 'n_estimators': 30}\n"
          ],
          "name": "stdout"
        },
        {
          "output_type": "execute_result",
          "data": {
            "text/plain": [
              "0.751863684771033"
            ]
          },
          "metadata": {
            "tags": []
          },
          "execution_count": 336
        }
      ]
    },
    {
      "cell_type": "code",
      "metadata": {
        "id": "am9ZEJcphdDy",
        "outputId": "c50f84cf-4a64-4b9a-b0e1-de965c927e3d",
        "colab": {
          "base_uri": "https://localhost:8080/"
        }
      },
      "source": [
        "print('Recall scores:') \n",
        "print_score(xgb_grid, recall_score, scaled_train, X_hold, y_train, y_hold)\n",
        "print('\\n')\n",
        "print_classif_rep(xgb_grid, scaled_train, X_hold, y_train, y_hold)"
      ],
      "execution_count": null,
      "outputs": [
        {
          "output_type": "stream",
          "text": [
            "Recall scores:\n",
            "Train score:  0.99\n",
            "Test score:  0.75\n",
            "\n",
            "\n",
            "Training:\n",
            "               precision    recall  f1-score   support\n",
            "\n",
            "           0       0.99      0.96      0.98     23604\n",
            "           1       0.97      0.99      0.98     26127\n",
            "\n",
            "    accuracy                           0.98     49731\n",
            "   macro avg       0.98      0.98      0.98     49731\n",
            "weighted avg       0.98      0.98      0.98     49731\n",
            "\n",
            "Testing:\n",
            "               precision    recall  f1-score   support\n",
            "\n",
            "           0       0.83      0.62      0.71      5569\n",
            "           1       0.50      0.75      0.60      2817\n",
            "\n",
            "    accuracy                           0.67      8386\n",
            "   macro avg       0.67      0.69      0.66      8386\n",
            "weighted avg       0.72      0.67      0.68      8386\n",
            "\n"
          ],
          "name": "stdout"
        }
      ]
    },
    {
      "cell_type": "code",
      "metadata": {
        "id": "5ZbRlD5pNWqp",
        "outputId": "a60f0702-fdd7-40a0-b30a-0baba4d1bd69",
        "colab": {
          "base_uri": "https://localhost:8080/",
          "height": 278
        }
      },
      "source": [
        "plot_confusion_matrix(xgb_grid, X_hold, y_hold, values_format='.2f')\n",
        "plt.show()"
      ],
      "execution_count": null,
      "outputs": [
        {
          "output_type": "display_data",
          "data": {
            "image/png": "[encoded data removed]",
            "text/plain": [
              "<Figure size 432x288 with 2 Axes>"
            ]
          },
          "metadata": {
            "tags": [],
            "needs_background": "light"
          }
        }
      ]
    },
    {
      "cell_type": "markdown",
      "metadata": {
        "id": "fIR3-ZrsJSOE"
      },
      "source": [
        "Finally time to see the scores for my test set. I'll use the rfc classifier since that had the best scores on my held out data.\n",
        "\n",
        "Although the final accuracy score was low, the recall was high for my minority class, which is what I was hoping to see. "
      ]
    },
    {
      "cell_type": "code",
      "metadata": {
        "id": "TuqQc8xmJyDD",
        "outputId": "fa4f1d87-4877-47e6-cb49-c07e2647c0e7",
        "colab": {
          "base_uri": "https://localhost:8080/"
        }
      },
      "source": [
        "print('Recall score: ', round(recall_score(y_test, rfc.predict(scaled_test)), 2), '\\n')\n",
        "print(classification_report(y_test, rfc.predict(scaled_test)))"
      ],
      "execution_count": null,
      "outputs": [
        {
          "output_type": "stream",
          "text": [
            "Recall score:  0.91 \n",
            "\n",
            "              precision    recall  f1-score   support\n",
            "\n",
            "           0       0.92      0.50      0.65     13962\n",
            "           1       0.48      0.91      0.63      7008\n",
            "\n",
            "    accuracy                           0.64     20970\n",
            "   macro avg       0.70      0.71      0.64     20970\n",
            "weighted avg       0.77      0.64      0.64     20970\n",
            "\n"
          ],
          "name": "stdout"
        }
      ]
    },
    {
      "cell_type": "code",
      "metadata": {
        "id": "QTOMzntcKiTv",
        "outputId": "40ab1fc7-7c83-4e6a-a9f6-cee15be4ec33",
        "colab": {
          "base_uri": "https://localhost:8080/",
          "height": 283
        }
      },
      "source": [
        "plot_confusion_matrix(rfc, scaled_test, y_test, values_format='.2f')\n",
        "plt.show()"
      ],
      "execution_count": null,
      "outputs": [
        {
          "output_type": "display_data",
          "data": {
            "image/png": "[encoded data removed]",
            "text/plain": [
              "<Figure size 432x288 with 2 Axes>"
            ]
          },
          "metadata": {
            "tags": [],
            "needs_background": "light"
          }
        }
      ]
    }
  ]
}